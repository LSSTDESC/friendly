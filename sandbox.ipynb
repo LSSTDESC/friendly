{
 "cells": [
  {
   "cell_type": "markdown",
   "id": "b4f1a639",
   "metadata": {},
   "source": [
    "### experiments with `networkx`\n",
    "\n",
    "_Alex Malz (CMU)_"
   ]
  },
  {
   "cell_type": "code",
   "execution_count": null,
   "id": "63e3b7fe",
   "metadata": {},
   "outputs": [],
   "source": [
    "import matplotlib.pyplot as plt\n",
    "import networkx as nx"
   ]
  },
  {
   "cell_type": "markdown",
   "id": "09c57b1d",
   "metadata": {},
   "source": [
    "nodes can be objects (coordinates, images, etc.), and edges can be associated with objects"
   ]
  },
  {
   "cell_type": "code",
   "execution_count": null,
   "id": "186573ba",
   "metadata": {},
   "outputs": [],
   "source": [
    "G = nx.Graph()\n",
    "G.add_node(('ra100','dec100'))\n",
    "G.add_nodes_from([200, 300])\n",
    "G.add_edge(('ra100','dec100'), 200, object={'overlap': 40})\n",
    "\n",
    "e = (200, 300)\n",
    "\n",
    "G.add_edge(*e)  # unpack edge tuple*\n",
    "print(G[('ra100','dec100')])\n",
    "nx.draw(G, with_labels=True)"
   ]
  },
  {
   "cell_type": "code",
   "execution_count": null,
   "id": "0bdb5f72",
   "metadata": {},
   "outputs": [],
   "source": [
    "G.add_nodes_from([\n",
    "\n",
    "    (4, {\"color\": \"red\"}),\n",
    "\n",
    "    (5, {\"color\": \"green\"}),\n",
    "\n",
    "])\n",
    "G.add_edge(('ra100','dec100'), 4, object={'overlap': 50})\n",
    "nx.draw(G, with_labels=True)"
   ]
  },
  {
   "cell_type": "markdown",
   "id": "2c3a18e4",
   "metadata": {},
   "source": [
    "we can combine graphs representing postage stamps to make one for a whole catalog, and it will know the association between them"
   ]
  },
  {
   "cell_type": "code",
   "execution_count": null,
   "id": "6c5ac13b",
   "metadata": {},
   "outputs": [],
   "source": [
    "H = nx.path_graph(10)\n",
    "\n",
    "G.add_nodes_from(H)\n",
    "G.add_node(H)\n",
    "G.add_edges_from([(1, 2), (1, 3)])\n",
    "G.add_edges_from(H.edges)\n",
    "nx.draw(G, with_labels=True)"
   ]
  },
  {
   "cell_type": "markdown",
   "id": "bf4901b3",
   "metadata": {},
   "source": [
    "we really want directed graphs, which seem to work similarly"
   ]
  },
  {
   "cell_type": "code",
   "execution_count": null,
   "id": "70c32487",
   "metadata": {},
   "outputs": [],
   "source": [
    "DG = nx.DiGraph()\n",
    "\n",
    "DG.add_edge(2, 1)   # adds the nodes in order 2, 1\n",
    "\n",
    "DG.add_edge(1, 3)\n",
    "\n",
    "DG.add_edge(2, 4)\n",
    "\n",
    "DG.add_edge(1, 2)\n",
    "\n",
    "assert list(DG.successors(2)) == [1, 4]\n",
    "\n",
    "assert list(DG.edges) == [(2, 1), (2, 4), (1, 3), (1, 2)]\n",
    "nx.draw(DG, with_labels=True)"
   ]
  },
  {
   "cell_type": "markdown",
   "id": "8d108890",
   "metadata": {},
   "source": [
    "the real question is whether we benefit from bipartite structure. . ."
   ]
  },
  {
   "cell_type": "code",
   "execution_count": null,
   "id": "86c1440b",
   "metadata": {},
   "outputs": [],
   "source": [
    "from networkx.algorithms import bipartite"
   ]
  },
  {
   "cell_type": "code",
   "execution_count": null,
   "id": "42b55da0",
   "metadata": {},
   "outputs": [],
   "source": [
    "B = nx.Graph()\n",
    "\n",
    "# Add nodes with the node attribute \"bipartite\"\n",
    "\n",
    "B.add_nodes_from([1, 2, 3, 4], bipartite=0)\n",
    "\n",
    "B.add_nodes_from([\"a\", \"b\", \"c\"], bipartite=1)\n",
    "\n",
    "# Add edges only between nodes of opposite node sets\n",
    "\n",
    "B.add_edges_from([(1, \"a\"), (1, \"b\"), (2, \"b\"), (2, \"c\"), (2, \"a\"), (3, \"c\"), (4, \"a\")])\n",
    "nx.draw(B, with_labels=True)"
   ]
  },
  {
   "cell_type": "code",
   "execution_count": null,
   "id": "915699e5",
   "metadata": {},
   "outputs": [],
   "source": []
  }
 ],
 "metadata": {
  "kernelspec": {
   "display_name": "BL (Python 3)",
   "language": "python",
   "name": "bl_3"
  },
  "language_info": {
   "codemirror_mode": {
    "name": "ipython",
    "version": 3
   },
   "file_extension": ".py",
   "mimetype": "text/x-python",
   "name": "python",
   "nbconvert_exporter": "python",
   "pygments_lexer": "ipython3",
   "version": "3.10.6"
  }
 },
 "nbformat": 4,
 "nbformat_minor": 5
}
