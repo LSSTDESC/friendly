{
 "cells": [
  {
   "cell_type": "markdown",
   "id": "f0f90b08",
   "metadata": {},
   "source": [
    "### experiments with `networkx`\n",
    "\n",
    "_Alex Malz (CMU)_"
   ]
  },
  {
   "cell_type": "code",
   "execution_count": null,
   "id": "2a1c2aaf",
   "metadata": {},
   "outputs": [],
   "source": [
    "import matplotlib.pyplot as plt\n",
    "import networkx as nx"
   ]
  },
  {
   "cell_type": "markdown",
   "id": "ed116ed5",
   "metadata": {},
   "source": [
    "nodes can be objects (coordinates, images, etc.), and edges can be associated with objects"
   ]
  },
  {
   "cell_type": "code",
   "execution_count": null,
   "id": "1c861791",
   "metadata": {},
   "outputs": [],
   "source": [
    "G = nx.Graph()\n",
    "G.add_node(('ra100','dec100'))\n",
    "G.add_nodes_from([200, 300])\n",
    "G.add_edge(('ra100','dec100'), 200, object={'overlap': 40})\n",
    "\n",
    "e1 = (200, 300)\n",
    "e2 = (('ra100','dec100'), 300)\n",
    "e = [e1, e2]\n",
    "\n",
    "G.add_edges_from(e)  # unpack edge tuple*\n",
    "print(G[('ra100','dec100')])\n",
    "nx.draw(G, with_labels=True)"
   ]
  },
  {
   "cell_type": "code",
   "execution_count": null,
   "id": "ebef1c35",
   "metadata": {},
   "outputs": [],
   "source": [
    "help(G)"
   ]
  },
  {
   "cell_type": "code",
   "execution_count": null,
   "id": "8b59a3e5",
   "metadata": {},
   "outputs": [],
   "source": [
    "G.add_nodes_from([\n",
    "\n",
    "    (4, {\"color\": \"red\"}),\n",
    "\n",
    "    (5, {\"color\": \"green\"}),\n",
    "\n",
    "])\n",
    "G.add_edge(('ra100','dec100'), 4, object={'overlap': 50})\n",
    "nx.draw(G, with_labels=True)"
   ]
  },
  {
   "cell_type": "code",
   "execution_count": null,
   "id": "feddea7a",
   "metadata": {},
   "outputs": [],
   "source": [
    "I = nx.Graph()\n",
    "I.add_weighted_edges_from([(0, 1, 3.0), (1, 2, 7.5)])\n",
    "#  Each edge given in the list or container will be added\n",
    "#  |          to the graph. The edges must be given as 3-tuples (u, v, w)\n",
    "nx.draw(I, with_labels=True)"
   ]
  },
  {
   "cell_type": "code",
   "execution_count": null,
   "id": "f0ae0f4f",
   "metadata": {},
   "outputs": [],
   "source": [
    "G.adj"
   ]
  },
  {
   "cell_type": "markdown",
   "id": "6b1b1e60",
   "metadata": {},
   "source": [
    "we can combine graphs representing postage stamps to make one for a whole catalog, and it will know the association between them"
   ]
  },
  {
   "cell_type": "code",
   "execution_count": null,
   "id": "0bc048ea",
   "metadata": {},
   "outputs": [],
   "source": [
    "H = nx.path_graph(10)\n",
    "\n",
    "G.add_nodes_from(H)\n",
    "G.add_node(H)\n",
    "G.add_edges_from([(1, 2), (1, 3)])\n",
    "G.add_edges_from(H.edges)\n",
    "nx.draw(G, with_labels=True)"
   ]
  },
  {
   "cell_type": "code",
   "execution_count": null,
   "id": "230274fb",
   "metadata": {},
   "outputs": [],
   "source": [
    "G.degree()"
   ]
  },
  {
   "cell_type": "markdown",
   "id": "982a01ea",
   "metadata": {},
   "source": [
    "TODO: show the different real cases of nontrivial detections/matches/blends"
   ]
  },
  {
   "cell_type": "markdown",
   "id": "9fce391d",
   "metadata": {},
   "source": [
    "TODO: on real data?"
   ]
  },
  {
   "cell_type": "markdown",
   "id": "ed23b019",
   "metadata": {},
   "source": [
    "we really want directed graphs, which seem to work similarly"
   ]
  },
  {
   "cell_type": "code",
   "execution_count": null,
   "id": "b94c1af7",
   "metadata": {},
   "outputs": [],
   "source": [
    "DG = nx.DiGraph()\n",
    "\n",
    "DG.add_edge(2, 1)   # adds the nodes in order 2, 1\n",
    "\n",
    "DG.add_edge(1, 3)\n",
    "\n",
    "DG.add_edge(3, 1)\n",
    "\n",
    "DG.add_edge(2, 4)\n",
    "\n",
    "DG.add_edge(1, 2)\n",
    "\n",
    "assert list(DG.successors(2)) == [1, 4]\n",
    "\n",
    "# assert list(DG.edges) == [(2, 1), (2, 4), (1, 3), (1, 2)]\n",
    "nx.draw(DG, with_labels=True)"
   ]
  },
  {
   "cell_type": "markdown",
   "id": "d3a5abcc",
   "metadata": {},
   "source": [
    "the real question is whether we benefit from bipartite structure. . ."
   ]
  },
  {
   "cell_type": "code",
   "execution_count": null,
   "id": "e18bfea5",
   "metadata": {},
   "outputs": [],
   "source": [
    "from networkx.algorithms import bipartite"
   ]
  },
  {
   "cell_type": "code",
   "execution_count": null,
   "id": "8b7c9c84",
   "metadata": {},
   "outputs": [],
   "source": [
    "B = nx.Graph()\n",
    "\n",
    "# Add nodes with the node attribute \"bipartite\"\n",
    "\n",
    "B.add_nodes_from([1, 2, 3, 4], bipartite=0)\n",
    "\n",
    "B.add_nodes_from([\"a\", \"b\", \"c\"], bipartite=1)\n",
    "\n",
    "# Add edges only between nodes of opposite node sets\n",
    "\n",
    "B.add_edges_from([(1, \"a\"), (1, \"b\"), (2, \"b\"), (2, \"c\"), (2, \"a\"), (3, \"c\"), (4, \"a\")])\n",
    "B.add_edges_from([(\"a\", \"b\")])\n",
    "nx.draw(B, with_labels=True)"
   ]
  },
  {
   "cell_type": "code",
   "execution_count": null,
   "id": "e458d66d",
   "metadata": {},
   "outputs": [],
   "source": [
    "C = G.to_directed()\n",
    "nx.draw(C, with_labels=True)"
   ]
  },
  {
   "cell_type": "markdown",
   "id": "8f14eb1b",
   "metadata": {},
   "source": [
    "TODO: explore more properties of bipartite"
   ]
  },
  {
   "cell_type": "markdown",
   "id": "79f21d13",
   "metadata": {},
   "source": [
    "TODO: how to write them out and read them in"
   ]
  },
  {
   "cell_type": "markdown",
   "id": "a5f075ef",
   "metadata": {},
   "source": [
    "TODO: convert from native FoF output"
   ]
  }
 ],
 "metadata": {
  "kernelspec": {
   "display_name": "BL (Python 3)",
   "language": "python",
   "name": "bl_3"
  },
  "language_info": {
   "codemirror_mode": {
    "name": "ipython",
    "version": 3
   },
   "file_extension": ".py",
   "mimetype": "text/x-python",
   "name": "python",
   "nbconvert_exporter": "python",
   "pygments_lexer": "ipython3",
   "version": "3.10.6"
  }
 },
 "nbformat": 4,
 "nbformat_minor": 5
}
