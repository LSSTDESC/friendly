{
 "cells": [
  {
   "cell_type": "code",
   "execution_count": 12,
   "id": "84da5dac-3db8-4d10-abb2-773fb926ce26",
   "metadata": {},
   "outputs": [],
   "source": [
    "import numpy as np\n",
    "import matplotlib.pyplot as plt\n",
    "import matplotlib as mpl\n",
    "from astropy.table import Table\n",
    "import GCRCatalogs\n",
    "from GCR import GCRQuery\n",
    "import statistics\n",
    "import os, sys\n",
    "import healpy as hp\n",
    "from tqdm.auto import tqdm, trange\n",
    "import scipy.stats\n",
    "import FoFCatalogMatching\n",
    "import pandas as pd\n",
    "from astropy.coordinates import SkyCoord\n",
    "from scipy.stats import pearsonr\n",
    "import warnings\n",
    "from numpy import random\n",
    "import time\n",
    "# from dask4in2p3.dask4in2p3 import Dask4in2p3\n",
    "# import dask\n",
    "import pickle"
   ]
  },
  {
   "cell_type": "code",
   "execution_count": 13,
   "id": "d8d743a3-2f1a-4fb9-b6ce-c3e04a5c2006",
   "metadata": {},
   "outputs": [],
   "source": [
    "warnings.filterwarnings('ignore')"
   ]
  },
  {
   "cell_type": "markdown",
   "id": "b59484b9-7df1-4dd6-827c-f7c857a9818b",
   "metadata": {},
   "source": [
    "# cosmoDC2, DC2objects and Filters"
   ]
  },
  {
   "cell_type": "code",
   "execution_count": 14,
   "id": "2b06dc3d-0efe-4765-8ab3-9c60528b4265",
   "metadata": {},
   "outputs": [],
   "source": [
    "mag_filters = [\n",
    "    'mag_i_cModel < 24.5', 'mag_i_cModel > 18',\n",
    "    (np.isfinite, 'mag_i_cModel')\n",
    "]\n",
    "truth_mag_filters = (['mag_i<24.5','mag_i>18',(np.isfinite, 'mag_i')]) #larger cut to ensure matching between faintest objects/galaxies"
   ]
  },
  {
   "cell_type": "code",
   "execution_count": 15,
   "id": "61d79f44-065e-492a-adf7-79dec7378cdb",
   "metadata": {},
   "outputs": [],
   "source": [
    "cosmodc2 = GCRCatalogs.load_catalog('cosmoDC2_v1.1.4_image') #truth catalog\n",
    "dc2 = GCRCatalogs.load_catalog('dc2_object_run2.2i_dr6_with_addons') #object catalog"
   ]
  },
  {
   "cell_type": "code",
   "execution_count": 16,
   "id": "1a45f336-7a8f-41fc-964b-43b7b6737c05",
   "metadata": {},
   "outputs": [],
   "source": [
    "object_data = (dc2.get_quantities(['ra', 'dec', 'mag_i_cModel','mag_r_cModel', 'mag_z_cModel', 'photoz_mean', 'x', 'y', 'Ixx_pixel', 'Iyy_pixel', 'Ixy_pixel', 'photoz_mode', 'blendedness', 'patch', 'snr_i_cModel'],\n",
    "                                 filters=['extendedness>0', 'clean']+mag_filters,\n",
    "                                 native_filters=['tract==4026']))"
   ]
  },
  {
   "cell_type": "code",
   "execution_count": 17,
   "id": "4483b0ae-3b0c-4d64-bee4-f0ebadb77a6e",
   "metadata": {},
   "outputs": [],
   "source": [
    "eps = 10/3600 # 10 arcsec\n",
    "max_ra = np.nanmax(object_data['ra']) + eps\n",
    "min_ra = np.nanmin(object_data['ra']) - eps\n",
    "max_dec = np.nanmax(object_data['dec']) + eps\n",
    "min_dec = np.nanmin(object_data['dec']) - eps\n",
    "pos_filters = [f'ra >= {min_ra}',f'ra <= {max_ra}', f'dec >= {min_dec}', f'dec <= {max_dec}']\n",
    "\n",
    "vertices = hp.ang2vec(np.array([min_ra, max_ra, max_ra, min_ra]),\n",
    "                      np.array([min_dec, min_dec, max_dec, max_dec]), lonlat=True)\n",
    "ipix = hp.query_polygon(32, vertices, inclusive=True)\n",
    "healpix_filter = GCRQuery((lambda h: np.isin(h, ipix, True), \"healpix_pixel\"))"
   ]
  },
  {
   "cell_type": "code",
   "execution_count": 18,
   "id": "458fec0c-9307-485c-859c-c5f025570de4",
   "metadata": {},
   "outputs": [],
   "source": [
    "quantities = ['galaxy_id', 'ra', 'dec', 'mag_i', 'mag_r', 'mag_z', 'redshift', 'size_true', 'size_minor_true', 'position_angle_true', 'halo_id', 'halo_mass']\n",
    "truth_data = (cosmodc2.get_quantities(quantities, filters=truth_mag_filters+pos_filters, \n",
    "                                      native_filters=healpix_filter))"
   ]
  },
  {
   "cell_type": "code",
   "execution_count": 19,
   "id": "ad4e779a-2380-467c-9634-7db878f21cb6",
   "metadata": {},
   "outputs": [],
   "source": [
    "stars_data = dc2.get_quantities(['ra', 'dec', 'mag_i_cModel','mag_r_cModel', 'mag_z_cModel', 'photoz_mean', 'x', 'y', 'Ixx_pixel', 'Iyy_pixel', 'Ixy_pixel', 'photoz_mode', 'blendedness'],\n",
    "                                 filters=['extendedness==0', 'clean']+mag_filters,\n",
    "                                 native_filters=['tract==4026'])"
   ]
  },
  {
   "cell_type": "code",
   "execution_count": 20,
   "id": "ab6d4b54-11eb-49b7-a12b-43af2c75483f",
   "metadata": {},
   "outputs": [
    {
     "name": "stdout",
     "output_type": "stream",
     "text": [
      "number of galaxies = 208721\n",
      "number of objects = 219425\n",
      "number of stars = 13860\n"
     ]
    }
   ],
   "source": [
    "print(\"number of galaxies =\", len(truth_data['ra']))\n",
    "print(\"number of objects =\", len(object_data['ra']))\n",
    "print(\"number of stars =\", len(stars_data['ra']))"
   ]
  },
  {
   "cell_type": "code",
   "execution_count": 21,
   "id": "6e90fdc4-b40d-4444-b9be-5184b60a6053",
   "metadata": {},
   "outputs": [],
   "source": [
    "output = open('/sps/lsst/users/mramel/data/Catalogs_multiple_tracts/truth/truth_data_4026_friendly_mag.pkl', 'wb')\n",
    "pickle.dump(truth_data, output)\n",
    "\n",
    "output2 = open('/sps/lsst/users/mramel/data/Catalogs_multiple_tracts/object/object_data_4026_friendly_mag.pkl', 'wb')\n",
    "pickle.dump(object_data, output2)\n",
    "\n",
    "output3 = open('/sps/lsst/users/mramel/data/Catalogs_multiple_tracts/star_data_4026_friendly_mag.pkl', 'wb')\n",
    "pickle.dump(stars_data, output3)"
   ]
  },
  {
   "cell_type": "markdown",
   "id": "2b9b3cab-7615-400f-b7df-eb4fb47a5738",
   "metadata": {},
   "source": [
    "# FoF algorithm"
   ]
  },
  {
   "cell_type": "code",
   "execution_count": 22,
   "id": "009e3472-5004-4823-bf3c-bf27b7d90854",
   "metadata": {},
   "outputs": [],
   "source": [
    "my_linking_length = 2."
   ]
  },
  {
   "cell_type": "code",
   "execution_count": 23,
   "id": "47a2e8a0-cdbe-408c-b601-5e3cde8631fb",
   "metadata": {},
   "outputs": [],
   "source": [
    "results = FoFCatalogMatching.match(catalog_dict={'object':pd.DataFrame(object_data), \n",
    "                                                 'galaxy':pd.DataFrame(truth_data)}, linking_lengths=my_linking_length)"
   ]
  },
  {
   "cell_type": "code",
   "execution_count": 24,
   "id": "84bfef22-0b54-49e7-a2cb-66697a713675",
   "metadata": {},
   "outputs": [],
   "source": [
    "np.save('/sps/lsst/users/mramel/data/FoF_multiple_tracts/ll_12/tract_4026_friendly_ll2_mag.npy', results)"
   ]
  },
  {
   "cell_type": "code",
   "execution_count": 25,
   "id": "9c62680c-61f2-4357-adda-3bfc59312bea",
   "metadata": {},
   "outputs": [
    {
     "name": "stdout",
     "output_type": "stream",
     "text": [
      "row_index catalog_key group_id\n",
      "--------- ----------- --------\n",
      "        0      object        0\n",
      "   193443      galaxy        0\n",
      "        1      object        1\n",
      "    69400      galaxy        1\n",
      "        2      object        2\n",
      "   188711      galaxy        2\n",
      "        3      object        3\n",
      "   113332      galaxy        3\n",
      "        4      object        4\n",
      "    99750      galaxy        4\n",
      "      ...         ...      ...\n",
      "   208689      galaxy   224558\n",
      "   208693      galaxy   224559\n",
      "   208694      galaxy   224560\n",
      "   208698      galaxy   224561\n",
      "   208700      galaxy   224562\n",
      "   208704      galaxy   224563\n",
      "   208706      galaxy   224564\n",
      "   208708      galaxy   224565\n",
      "   208709      galaxy   224566\n",
      "   208714      galaxy   224567\n",
      "   208717      galaxy   224568\n",
      "Length = 428146 rows\n"
     ]
    }
   ],
   "source": [
    "print(results)"
   ]
  },
  {
   "cell_type": "code",
   "execution_count": 26,
   "id": "818de5e7-15e9-47c5-8be8-4d89fd3da940",
   "metadata": {},
   "outputs": [
    {
     "name": "stdout",
     "output_type": "stream",
     "text": [
      "<class 'astropy.table.table.Table'>\n"
     ]
    }
   ],
   "source": [
    "print(type(results))"
   ]
  },
  {
   "cell_type": "code",
   "execution_count": 27,
   "id": "80682fc4-f1ac-45da-b753-725737628f43",
   "metadata": {},
   "outputs": [],
   "source": [
    "results = results.to_pandas()"
   ]
  },
  {
   "cell_type": "markdown",
   "id": "779676f0-cdb8-4e1c-a839-ddf061eb70ca",
   "metadata": {
    "tags": []
   },
   "source": [
    "# Recover groups"
   ]
  },
  {
   "cell_type": "code",
   "execution_count": 28,
   "id": "b7df7b90-f0a4-43a2-be0c-4d8a0608abdc",
   "metadata": {},
   "outputs": [],
   "source": [
    "results['is_object'] = (results['catalog_key']=='object')"
   ]
  },
  {
   "cell_type": "code",
   "execution_count": 29,
   "id": "4088a0cb-e312-4a8c-b30a-93dc7f2fb38b",
   "metadata": {},
   "outputs": [],
   "source": [
    "res = results.drop('catalog_key', axis=1)"
   ]
  },
  {
   "cell_type": "code",
   "execution_count": 30,
   "id": "61dac3ad-68a8-4988-aacd-0f135d1271bb",
   "metadata": {
    "tags": []
   },
   "outputs": [],
   "source": [
    "\n",
    "groups = []\n",
    "\n",
    "for group_id, rows in res.groupby('group_id'):\n",
    "    id_gal = list(rows['row_index'][~rows['is_object']])\n",
    "    id_obj = list(rows['row_index'][rows['is_object']])\n",
    "    groups.append([id_gal, id_obj])\n"
   ]
  },
  {
   "cell_type": "code",
   "execution_count": 31,
   "id": "a3973562-e717-4b29-a288-1f34b36fc694",
   "metadata": {},
   "outputs": [],
   "source": [
    "np.save(\"groups_ll_2_mag.npy\", groups)"
   ]
  },
  {
   "cell_type": "code",
   "execution_count": 32,
   "id": "b3822f89-9d36-4372-b7ab-392c3c89149d",
   "metadata": {},
   "outputs": [
    {
     "name": "stdout",
     "output_type": "stream",
     "text": [
      "[[[193443], [0]], [[69400], [1]], [[188711], [2]], [[113332], [3]], [[99750], [4]], [[99751], [5]], [[99149], [6]], [[61932], [7]], [[108306], [8]], [[79982], [9]]]\n"
     ]
    }
   ],
   "source": [
    "print(groups[:10])"
   ]
  },
  {
   "cell_type": "code",
   "execution_count": null,
   "id": "728fdab9-cd1a-49b6-9b73-efc11047b6dc",
   "metadata": {},
   "outputs": [],
   "source": []
  },
  {
   "cell_type": "code",
   "execution_count": null,
   "id": "7e13ffb2-39db-488e-b37f-5c99cb11aa5c",
   "metadata": {},
   "outputs": [],
   "source": []
  },
  {
   "cell_type": "code",
   "execution_count": null,
   "id": "2503978a-2094-4394-b3c3-afd65e098a91",
   "metadata": {},
   "outputs": [],
   "source": []
  },
  {
   "cell_type": "code",
   "execution_count": null,
   "id": "f736aec4-6ae5-48c9-a47c-8073e7ff0889",
   "metadata": {},
   "outputs": [],
   "source": []
  }
 ],
 "metadata": {
  "kernelspec": {
   "display_name": "mydesc",
   "language": "python",
   "name": "mydesc"
  },
  "language_info": {
   "codemirror_mode": {
    "name": "ipython",
    "version": 3
   },
   "file_extension": ".py",
   "mimetype": "text/x-python",
   "name": "python",
   "nbconvert_exporter": "python",
   "pygments_lexer": "ipython3",
   "version": "3.8.12"
  }
 },
 "nbformat": 4,
 "nbformat_minor": 5
}
