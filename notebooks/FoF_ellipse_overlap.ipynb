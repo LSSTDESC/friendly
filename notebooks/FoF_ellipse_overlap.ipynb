{
 "cells": [
  {
   "cell_type": "code",
   "execution_count": 1,
   "id": "ec44d846-48fc-4077-af23-a73575a5b3eb",
   "metadata": {},
   "outputs": [],
   "source": [
    "import numpy as np\n",
    "import matplotlib.pyplot as plt\n",
    "import matplotlib as mpl\n",
    "from astropy.table import Table\n",
    "import GCRCatalogs\n",
    "from GCR import GCRQuery\n",
    "import statistics\n",
    "import os, sys\n",
    "import healpy as hp\n",
    "from tqdm.auto import tqdm, trange\n",
    "import scipy.stats\n",
    "import FoFCatalogMatching\n",
    "import pandas as pd\n",
    "from astropy.coordinates import SkyCoord\n",
    "from scipy.stats import pearsonr\n",
    "import warnings\n",
    "from numpy import random\n",
    "import time"
   ]
  },
  {
   "cell_type": "code",
   "execution_count": 2,
   "id": "8bf9771a-d00a-4e70-ad05-72052fd28023",
   "metadata": {},
   "outputs": [],
   "source": [
    "warnings.filterwarnings('ignore')"
   ]
  },
  {
   "cell_type": "markdown",
   "id": "143e4e81-f627-4b55-8d32-eda8aad1a145",
   "metadata": {},
   "source": [
    "# cosmoDC2, DC2objects and Filters"
   ]
  },
  {
   "cell_type": "code",
   "execution_count": 3,
   "id": "a0f2668d-ff39-447e-8dcc-f469a2f6232d",
   "metadata": {},
   "outputs": [],
   "source": [
    "mag_filters = [\n",
    "    'mag_i_cModel < 26.5', 'mag_i_cModel > 18',\n",
    "    (np.isfinite, 'mag_i_cModel')\n",
    "]\n",
    "truth_mag_filters = (['mag_i<28','mag_i>18',(np.isfinite, 'mag_i')]) #larger cut to ensure matching between faintest objects/galaxies"
   ]
  },
  {
   "cell_type": "code",
   "execution_count": 4,
   "id": "feccb1a2-be4e-4649-886e-131b95806ac9",
   "metadata": {},
   "outputs": [],
   "source": [
    "cosmodc2 = GCRCatalogs.load_catalog('cosmoDC2_v1.1.4_image') #truth catalog\n",
    "dc2 = GCRCatalogs.load_catalog('dc2_object_run2.2i_dr6_with_addons') #object catalog"
   ]
  },
  {
   "cell_type": "code",
   "execution_count": 5,
   "id": "ece8329d-79cd-4e6f-adfd-ba75dec187cc",
   "metadata": {},
   "outputs": [],
   "source": [
    "object_data = (dc2.get_quantities(['ra', 'dec', 'mag_i_cModel','mag_r_cModel', 'mag_z_cModel', 'photoz_mean', 'x', 'y', 'Ixx_pixel', 'Iyy_pixel', 'Ixy_pixel', 'photoz_mode', 'blendedness'],\n",
    "                                 filters=['extendedness>0', 'clean']+mag_filters,\n",
    "                                 native_filters=['tract==4026']))"
   ]
  },
  {
   "cell_type": "code",
   "execution_count": 6,
   "id": "a0fe2951-f644-4174-81cb-32c1ab5898cd",
   "metadata": {},
   "outputs": [],
   "source": [
    "eps = 10/3600 # 10 arcsec\n",
    "max_ra = np.nanmax(object_data['ra']) + eps\n",
    "min_ra = np.nanmin(object_data['ra']) - eps\n",
    "max_dec = np.nanmax(object_data['dec']) + eps\n",
    "min_dec = np.nanmin(object_data['dec']) - eps\n",
    "pos_filters = [f'ra >= {min_ra}',f'ra <= {max_ra}', f'dec >= {min_dec}', f'dec <= {max_dec}']\n",
    "\n",
    "vertices = hp.ang2vec(np.array([min_ra, max_ra, max_ra, min_ra]),\n",
    "                      np.array([min_dec, min_dec, max_dec, max_dec]), lonlat=True)\n",
    "ipix = hp.query_polygon(32, vertices, inclusive=True)\n",
    "healpix_filter = GCRQuery((lambda h: np.isin(h, ipix, True), \"healpix_pixel\"))"
   ]
  },
  {
   "cell_type": "code",
   "execution_count": 7,
   "id": "0d410393-861a-4bc2-a59c-3037bfe5a401",
   "metadata": {},
   "outputs": [],
   "source": [
    "quantities = ['galaxy_id', 'ra', 'dec', 'mag_i', 'mag_r', 'mag_z', 'redshift', 'size_true', 'size_minor_true', 'position_angle_true', 'halo_id', 'halo_mass']\n",
    "truth_data = (cosmodc2.get_quantities(quantities, filters=truth_mag_filters+pos_filters, \n",
    "                                      native_filters=healpix_filter))"
   ]
  },
  {
   "cell_type": "code",
   "execution_count": 8,
   "id": "b65124a0-8a48-4099-88a9-038c7c3ebd3f",
   "metadata": {},
   "outputs": [],
   "source": [
    "stars_data = dc2.get_quantities(['ra', 'dec', 'mag_i_cModel','mag_r_cModel', 'mag_z_cModel', 'photoz_mean', 'x', 'y', 'Ixx_pixel', 'Iyy_pixel', 'Ixy_pixel', 'photoz_mode', 'blendedness'],\n",
    "                                 filters=['extendedness==0', 'clean']+mag_filters,\n",
    "                                 native_filters=['tract==4026'])"
   ]
  },
  {
   "cell_type": "code",
   "execution_count": 9,
   "id": "db8c8ee9-7bd9-4974-a5a5-01cde1f59c1b",
   "metadata": {},
   "outputs": [
    {
     "name": "stdout",
     "output_type": "stream",
     "text": [
      "number of galaxies = 2920943\n",
      "number of objects = 708875\n",
      "number of stars = 154206\n"
     ]
    }
   ],
   "source": [
    "print(\"number of galaxies =\", len(truth_data['ra']))\n",
    "print(\"number of objects =\", len(object_data['ra']))\n",
    "print(\"number of stars =\", len(stars_data['ra']))"
   ]
  },
  {
   "cell_type": "markdown",
   "id": "bedb5b65-2eb6-4157-9ee6-cd6eed5c1996",
   "metadata": {},
   "source": [
    "# FoF algorithm"
   ]
  },
  {
   "cell_type": "code",
   "execution_count": 10,
   "id": "a3f096e8-c940-4a4a-8833-eae5d348bc02",
   "metadata": {},
   "outputs": [],
   "source": [
    "my_linking_length = 1.2"
   ]
  },
  {
   "cell_type": "code",
   "execution_count": 11,
   "id": "48538514-d81e-4108-9d8c-9c5204ad451a",
   "metadata": {},
   "outputs": [],
   "source": [
    "results = (FoFCatalogMatching.match(catalog_dict={'object':pd.DataFrame(object_data), \n",
    "                                                 'galaxy':pd.DataFrame(truth_data)}, linking_lengths=my_linking_length)).to_pandas()"
   ]
  },
  {
   "cell_type": "code",
   "execution_count": 12,
   "id": "aedc2576-08c4-487e-ad5e-0d2832937030",
   "metadata": {},
   "outputs": [
    {
     "data": {
      "text/html": [
       "<div>\n",
       "<style scoped>\n",
       "    .dataframe tbody tr th:only-of-type {\n",
       "        vertical-align: middle;\n",
       "    }\n",
       "\n",
       "    .dataframe tbody tr th {\n",
       "        vertical-align: top;\n",
       "    }\n",
       "\n",
       "    .dataframe thead th {\n",
       "        text-align: right;\n",
       "    }\n",
       "</style>\n",
       "<table border=\"1\" class=\"dataframe\">\n",
       "  <thead>\n",
       "    <tr style=\"text-align: right;\">\n",
       "      <th></th>\n",
       "      <th>row_index</th>\n",
       "      <th>catalog_key</th>\n",
       "      <th>group_id</th>\n",
       "    </tr>\n",
       "  </thead>\n",
       "  <tbody>\n",
       "    <tr>\n",
       "      <th>0</th>\n",
       "      <td>0</td>\n",
       "      <td>object</td>\n",
       "      <td>0</td>\n",
       "    </tr>\n",
       "    <tr>\n",
       "      <th>1</th>\n",
       "      <td>2052843</td>\n",
       "      <td>galaxy</td>\n",
       "      <td>0</td>\n",
       "    </tr>\n",
       "    <tr>\n",
       "      <th>2</th>\n",
       "      <td>1</td>\n",
       "      <td>object</td>\n",
       "      <td>1</td>\n",
       "    </tr>\n",
       "    <tr>\n",
       "      <th>3</th>\n",
       "      <td>488380</td>\n",
       "      <td>galaxy</td>\n",
       "      <td>1</td>\n",
       "    </tr>\n",
       "    <tr>\n",
       "      <th>4</th>\n",
       "      <td>2</td>\n",
       "      <td>object</td>\n",
       "      <td>2</td>\n",
       "    </tr>\n",
       "    <tr>\n",
       "      <th>...</th>\n",
       "      <td>...</td>\n",
       "      <td>...</td>\n",
       "      <td>...</td>\n",
       "    </tr>\n",
       "    <tr>\n",
       "      <th>3629813</th>\n",
       "      <td>2920938</td>\n",
       "      <td>galaxy</td>\n",
       "      <td>2271922</td>\n",
       "    </tr>\n",
       "    <tr>\n",
       "      <th>3629814</th>\n",
       "      <td>2920939</td>\n",
       "      <td>galaxy</td>\n",
       "      <td>2271923</td>\n",
       "    </tr>\n",
       "    <tr>\n",
       "      <th>3629815</th>\n",
       "      <td>2920940</td>\n",
       "      <td>galaxy</td>\n",
       "      <td>2271924</td>\n",
       "    </tr>\n",
       "    <tr>\n",
       "      <th>3629816</th>\n",
       "      <td>2920941</td>\n",
       "      <td>galaxy</td>\n",
       "      <td>2271925</td>\n",
       "    </tr>\n",
       "    <tr>\n",
       "      <th>3629817</th>\n",
       "      <td>2920942</td>\n",
       "      <td>galaxy</td>\n",
       "      <td>2271926</td>\n",
       "    </tr>\n",
       "  </tbody>\n",
       "</table>\n",
       "<p>3629818 rows × 3 columns</p>\n",
       "</div>"
      ],
      "text/plain": [
       "         row_index catalog_key  group_id\n",
       "0                0      object         0\n",
       "1          2052843      galaxy         0\n",
       "2                1      object         1\n",
       "3           488380      galaxy         1\n",
       "4                2      object         2\n",
       "...            ...         ...       ...\n",
       "3629813    2920938      galaxy   2271922\n",
       "3629814    2920939      galaxy   2271923\n",
       "3629815    2920940      galaxy   2271924\n",
       "3629816    2920941      galaxy   2271925\n",
       "3629817    2920942      galaxy   2271926\n",
       "\n",
       "[3629818 rows x 3 columns]"
      ]
     },
     "execution_count": 12,
     "metadata": {},
     "output_type": "execute_result"
    }
   ],
   "source": [
    "results"
   ]
  },
  {
   "cell_type": "code",
   "execution_count": 13,
   "id": "2794f4e8-09e8-4438-a883-13d243e4d567",
   "metadata": {},
   "outputs": [
    {
     "name": "stdout",
     "output_type": "stream",
     "text": [
      "Linking length 1.2'' \n",
      "Number of groups 2271927 \n",
      "Number of groups with at least 1 galaxy 2264766 (99.68 %)\n",
      "Number of groups with at least 1 object 694014 (30.55 %)\n",
      "Average number of galaxies per group : 1.29 \n",
      "Average number of objects per group : 0.31\n"
     ]
    }
   ],
   "source": [
    "truth_mask = results['catalog_key'] == 'galaxy'\n",
    "object_mask = ~truth_mask\n",
    "\n",
    "n_groups = results['group_id'].max() + 1\n",
    "n_truth = np.bincount(results['group_id'][truth_mask], minlength=n_groups)\n",
    "n_object = np.bincount(results['group_id'][object_mask], minlength=n_groups)\n",
    "\n",
    "ngal_group = len(truth_data['ra'])/n_groups\n",
    "nobj_group = len(object_data['ra'])/n_groups\n",
    "\n",
    "print(f'Linking length {my_linking_length}\\'\\' \\nNumber of groups {n_groups} ')\n",
    "print(f'Number of groups with at least 1 galaxy {len(n_truth[n_truth>0])} ({100*len(n_truth[n_truth>0])/n_groups:.2f} %)')\n",
    "print(f'Number of groups with at least 1 object {len(n_object[n_object>0])} ({100*len(n_object[n_object>0])/n_groups:.2f} %)')\n",
    "print(f'Average number of galaxies per group : {ngal_group:.2f} \\nAverage number of objects per group : {nobj_group:.2f}')"
   ]
  },
  {
   "cell_type": "markdown",
   "id": "641958c5-df98-44e6-b54a-22ed2ae476cf",
   "metadata": {
    "tags": []
   },
   "source": [
    "# Recover groups"
   ]
  },
  {
   "cell_type": "code",
   "execution_count": 14,
   "id": "7497d89c-ea3e-4cf1-aed9-0eb1aefdffec",
   "metadata": {},
   "outputs": [],
   "source": [
    "results['is_object'] = (results['catalog_key']=='object')"
   ]
  },
  {
   "cell_type": "code",
   "execution_count": 15,
   "id": "217daa03-734f-46dc-ab73-a4746ab52cf6",
   "metadata": {},
   "outputs": [],
   "source": [
    "res = results.drop('catalog_key', axis=1)"
   ]
  },
  {
   "cell_type": "code",
   "execution_count": 16,
   "id": "ee1197e5-e07d-44bd-a36a-635ac388fbbb",
   "metadata": {},
   "outputs": [],
   "source": [
    "groups = []\n",
    "\n",
    "for group_id, rows in res.groupby('group_id'):\n",
    "    id_gal = list(rows['row_index'][~rows['is_object']])\n",
    "    id_obj = list(rows['row_index'][rows['is_object']])\n",
    "    groups.append([id_gal, id_obj])"
   ]
  },
  {
   "cell_type": "code",
   "execution_count": 17,
   "id": "f95737fd-9f82-4076-9a1e-ad630fe9c576",
   "metadata": {},
   "outputs": [
    {
     "name": "stdout",
     "output_type": "stream",
     "text": [
      "[[[2052843], [0]], [[488380], [1]], [[485146], [2]], [[640538], [3]], [[665906, 792427], [4]], [[512965, 795342], [5]], [[642663], [6]], [[732008], [7]], [[1937653], [8]], [[2349327], [9]]]\n"
     ]
    }
   ],
   "source": [
    "print(groups[:10])"
   ]
  },
  {
   "cell_type": "markdown",
   "id": "fd5d25cc-5868-4256-b894-7e325acea3c6",
   "metadata": {},
   "source": [
    "### Choose one random system, defined by its number of galaxies and its number of objects"
   ]
  },
  {
   "cell_type": "code",
   "execution_count": 37,
   "id": "e571b404-4f6e-4883-a560-70633458e468",
   "metadata": {},
   "outputs": [
    {
     "name": "stdout",
     "output_type": "stream",
     "text": [
      "[[1214010], [403365]]\n"
     ]
    }
   ],
   "source": [
    "group = [[],[]]\n",
    "n = 1 #number of galaxies\n",
    "m = 1 #number of objects\n",
    "\n",
    "while (len(group[0]) != n) | (len(group[1]) != m): #choose which system you want to study\n",
    "    group = groups[random.randint(0,len(groups))]\n",
    "\n",
    "print(group)"
   ]
  },
  {
   "cell_type": "markdown",
   "id": "39a81fa5-6b70-4d22-8b32-830dff26883e",
   "metadata": {},
   "source": [
    "# Test ellipse overlapp "
   ]
  },
  {
   "cell_type": "code",
   "execution_count": 38,
   "id": "b4b11d1c-e307-4eab-96f4-e67dfcc57fb0",
   "metadata": {},
   "outputs": [],
   "source": [
    "def ellipse_equation(x, y, params): #ellipse equation\n",
    "    \n",
    "    A, B, C, D, E, F = params\n",
    "    \n",
    "    return A*x**2 + B*y**2 + 2*C*x*y + 2*D*x + 2*E*y + F"
   ]
  },
  {
   "cell_type": "code",
   "execution_count": 39,
   "id": "228b3eec-2361-41c2-b1b3-c381b4640027",
   "metadata": {},
   "outputs": [],
   "source": [
    "def ab2AB(a, b, theta, x0, y0): #converts semi-axis a and b and theta angle in A,B,C,D,E,F parameters\n",
    "    \n",
    "    ### a, b, in any length units; theta in degrees ###\n",
    "    sin = np.sin(np.radians(theta))\n",
    "    cos = np.cos(np.radians(theta))\n",
    "    \n",
    "    A = (a*sin)**2 + (b*cos)**2\n",
    "    B = (a*cos)**2 + (b*sin)**2\n",
    "    C = 2*(b**2 - a**2)*sin*cos\n",
    "    D = -2*A*x0 - C*y0\n",
    "    E = -C*x0 - 2*B*y0\n",
    "    F = A*x0**2 + C*x0*y0 + B*y0**2 - (a*b)**2\n",
    "    C, D, E = C/2, D/2, E/2\n",
    "    \n",
    "    return [A, B, C, D, E, F]"
   ]
  },
  {
   "cell_type": "markdown",
   "id": "12405c5f-931e-4e0f-9a32-fef545c97d91",
   "metadata": {},
   "source": [
    "## Parameters of ellipse 2 (object)"
   ]
  },
  {
   "cell_type": "code",
   "execution_count": 40,
   "id": "6a21ba11-a09e-425c-8883-81e43a9af602",
   "metadata": {},
   "outputs": [
    {
     "name": "stdout",
     "output_type": "stream",
     "text": [
      "[403365]\n"
     ]
    }
   ],
   "source": [
    "idx2 = group[1] #indices of objects\n",
    "print(idx2)"
   ]
  },
  {
   "cell_type": "markdown",
   "id": "d05a57e9-0e35-46eb-a03e-50fb8a90fbaf",
   "metadata": {},
   "source": [
    "### Calculate a, b, theta ellipse parameters from the second moments of the object catalog"
   ]
  },
  {
   "cell_type": "code",
   "execution_count": 41,
   "id": "4e2d92ed-edc0-477b-ae01-cac9fb1ada2f",
   "metadata": {},
   "outputs": [],
   "source": [
    "def moments2ab(Ixx, Iyy, Ixy): #converts second moments in a,b and theta parameters\n",
    "    \n",
    "    ### Ixx, Iyy, Ixy in same unit as (x0, y0) ###\n",
    "   \n",
    "    pi_ab = 2 * np.sqrt(np.pi) * np.power(Ixx*Iyy - Ixy**2, 1/4)\n",
    "    \n",
    "    theta2 = np.arctan2(2*Ixy, Ixx-Iyy)\n",
    "    theta2[theta2<0] += 2*np.pi\n",
    "    \n",
    "    theta = theta2 / 2\n",
    "    \n",
    "    sin = np.sin(theta)\n",
    "    cos = np.cos(theta)\n",
    "    cos2t = cos**2 - sin**2\n",
    "    \n",
    "    a_square = 4*(Ixx*cos**2 - Iyy*sin**2) / (pi_ab * cos2t)\n",
    "    b_square = 4*(Iyy*cos**2 - Ixx*sin**2) / (pi_ab * cos2t)\n",
    "    \n",
    "    return [np.sqrt(a_square), np.sqrt(b_square), np.degrees(theta)]"
   ]
  },
  {
   "cell_type": "code",
   "execution_count": 42,
   "id": "811b4249-2749-42bb-9fed-40d4e4445c8f",
   "metadata": {},
   "outputs": [],
   "source": [
    "Ixx = object_data['Ixx_pixel'][idx2]\n",
    "Iyy = object_data['Iyy_pixel'][idx2]\n",
    "Ixy = object_data['Ixy_pixel'][idx2]\n",
    "\n",
    "x0 = object_data['x'][idx2]\n",
    "y0 = object_data['y'][idx2]\n",
    "\n",
    "a2, b2, theta2 = moments2ab(Ixx, Iyy, Ixy)"
   ]
  },
  {
   "cell_type": "code",
   "execution_count": 43,
   "id": "0026cbf0-435a-4cff-b5a6-ed54d5982ab4",
   "metadata": {},
   "outputs": [],
   "source": [
    "ra2 = object_data['ra'][idx2]\n",
    "dec2 = object_data['dec'][idx2]"
   ]
  },
  {
   "cell_type": "markdown",
   "id": "3f5a8eaa-8cf1-4e4c-b402-c0a745334b74",
   "metadata": {},
   "source": [
    "### Calculate the A, B, C, D, E, F parameters"
   ]
  },
  {
   "cell_type": "code",
   "execution_count": 44,
   "id": "d5db2dbb-08dc-4b46-aeac-5e3088733c68",
   "metadata": {},
   "outputs": [
    {
     "name": "stdout",
     "output_type": "stream",
     "text": [
      "[array([ 7.41742161e+00,  5.60638887e+00, -1.42390463e+00, -5.33222693e+04,\n",
      "       -1.29271909e+05,  4.03273790e+09])]\n"
     ]
    }
   ],
   "source": [
    "fudge = 1.5 #fudge factor (constant for the moment)\n",
    "\n",
    "p_obj = []\n",
    "\n",
    "for m in range(len(idx2)):\n",
    "    p_obj.append(np.ravel(ab2AB(fudge*a2[m], fudge*b2[m], theta2[m], x0[m], y0[m])))\n",
    "\n",
    "print(p_obj)"
   ]
  },
  {
   "cell_type": "markdown",
   "id": "214830f4-71a3-4a9e-b540-499a1fbdc278",
   "metadata": {},
   "source": [
    "## Plot object ellipses"
   ]
  },
  {
   "cell_type": "code",
   "execution_count": 45,
   "id": "c0ad65c6-2c44-48fa-8f13-37ce8ee4ade9",
   "metadata": {},
   "outputs": [],
   "source": [
    "def plot_shape(x0, y0, rough_size, params, c='b', ls='-', ax=None, linewidth=2): #plot function\n",
    "    \n",
    "    x = np.linspace(x0 - rough_size, x0 + rough_size, 100)\n",
    "    y = np.linspace(y0 - rough_size, y0 + rough_size, 100)\n",
    "    x, y = np.meshgrid(x,y)\n",
    " \n",
    "    z = ellipse_equation(x, y, params)\n",
    "    \n",
    "    ax.contour(x, y, z, [0], colors=c, linestyles=ls, linewidths=linewidth) "
   ]
  },
  {
   "cell_type": "code",
   "execution_count": 46,
   "id": "bad12c75-a3ac-444c-b36d-a173d365b944",
   "metadata": {},
   "outputs": [
    {
     "data": {
      "text/plain": [
       "<matplotlib.legend.Legend at 0x7f18642285b0>"
      ]
     },
     "execution_count": 46,
     "metadata": {},
     "output_type": "execute_result"
    },
    {
     "data": {
      "image/png": "[encoded data removed]",
      "text/plain": [
       "<Figure size 504x504 with 1 Axes>"
      ]
     },
     "metadata": {
      "needs_background": "light"
     },
     "output_type": "display_data"
    }
   ],
   "source": [
    "fig = plt.figure(figsize=(7,7))\n",
    "ax = fig.add_subplot(111)\n",
    " \n",
    "rough_size = 4*np.sqrt(a2[0]*b2[0])\n",
    "\n",
    "for m in range(len(idx2)):\n",
    "    plot_shape(x0[m], y0[m], rough_size, p_obj[m], c='b', ls='-', ax=ax)\n",
    "\n",
    "ax.set_xlabel('x / pix', fontsize=14)\n",
    "ax.set_ylabel('y / pix', fontsize=14)\n",
    "\n",
    "ax.plot([], [], 'b', label='Detected object(s)')\n",
    "\n",
    "ax.legend(prop={'size':14})"
   ]
  },
  {
   "cell_type": "markdown",
   "id": "4b710ea1-93d1-43a1-8d22-2721904d8ed4",
   "metadata": {},
   "source": [
    "## Parameters of ellipse 1 (galaxy)"
   ]
  },
  {
   "cell_type": "code",
   "execution_count": 47,
   "id": "a94317a4-50a3-4bba-854d-7cd11fae74b3",
   "metadata": {},
   "outputs": [
    {
     "name": "stdout",
     "output_type": "stream",
     "text": [
      "[1214010]\n"
     ]
    }
   ],
   "source": [
    "idx1 = group[0] #indices of the galaxies\n",
    "print(idx1)"
   ]
  },
  {
   "cell_type": "markdown",
   "id": "803057ab-be64-41bc-9852-b2d8b88cf630",
   "metadata": {},
   "source": [
    "### Measure the PSF by looking at stars"
   ]
  },
  {
   "cell_type": "code",
   "execution_count": 48,
   "id": "dca71a41-79bc-4550-a244-e421328b472f",
   "metadata": {},
   "outputs": [
    {
     "name": "stdout",
     "output_type": "stream",
     "text": [
      "0.00011259314083096866\n"
     ]
    }
   ],
   "source": [
    "Ixx = stars_data['Ixx_pixel'][~np.isnan(stars_data['Ixx_pixel'])] ## in pixels\n",
    "Iyy = stars_data['Iyy_pixel'][~np.isnan(stars_data['Iyy_pixel'])] ## in pixels\n",
    "\n",
    "stars_data['r_tp'] = np.power(2*(Ixx + Iyy)/np.pi, 1/4)\n",
    "stars_data['r_gauss' ] = np.sqrt(np.log(2) * (Ixx+Iyy))\n",
    "#stars_data['r_fudge'] = 1.5 * stars_data['r'] ## fudge factor for the constant-flux disk model\n",
    "\n",
    "psf = np.median(stars_data['r_gauss']) * 0.2 / 3600    ## in degree; pixel ratio is 0.2\"/pix\n",
    "print(psf)"
   ]
  },
  {
   "cell_type": "markdown",
   "id": "0df0d0d6-7143-439f-a917-9cd06cded61f",
   "metadata": {},
   "source": [
    "### Convert a, b, theta in (ra, dec, deg) plane to a, b, theta in (pixels) plane and convolute with the psf"
   ]
  },
  {
   "cell_type": "code",
   "execution_count": 49,
   "id": "b82be5cb-ac98-4cee-9918-f80b5dafecc1",
   "metadata": {},
   "outputs": [],
   "source": [
    "ra1 = truth_data['ra'][idx1] #in degrees\n",
    "dec1 = truth_data['dec'][idx1] #in degrees\n",
    "\n",
    "a = truth_data['size_true'][idx1] / 3600. #arcsec to degree\n",
    "b = truth_data['size_minor_true'][idx1] / 3600. #arcsec to degree\n",
    "a_eff = np.sqrt( a**2 + psf**2) #in degree (with the effect of the PSF)\n",
    "b_eff = np.sqrt( b**2 + psf**2) #in degree (with the effect of the PSF)\n",
    "\n",
    "a1 = a_eff * 3600 / 0.2 #in pixels (pixel ratio is 0.2\"/pix)\n",
    "b1 = b_eff * 3600 / 0.2 #in pixels (pixel ratio is 0.2\"/pix)\n",
    "\n",
    "theta1 = 270 - truth_data['position_angle_true'][idx1]\n",
    "theta1[theta1>180] -= 180"
   ]
  },
  {
   "cell_type": "markdown",
   "id": "e0235494-f219-4d2a-a7e3-6e18bff9bc22",
   "metadata": {},
   "source": [
    "### Calculate the positions of galaxies in pixels plan from the position of objects"
   ]
  },
  {
   "cell_type": "code",
   "execution_count": 50,
   "id": "13079fdd-f93e-4861-a2c5-5feef01440e6",
   "metadata": {},
   "outputs": [
    {
     "name": "stdout",
     "output_type": "stream",
     "text": [
      "[-0.2933053] [-0.5128048]\n"
     ]
    }
   ],
   "source": [
    "dx = []\n",
    "dy = []\n",
    "\n",
    "dx = (((ra2[0] - ra1) * np.cos(np.radians( (dec1+dec2[0]) / 2 )) * 3600 / 0.2)) #pixel displacement with respect to the position of the object #1 \n",
    "dy = ((dec2[0] - dec1) * 3600 / 0.2)\n",
    "\n",
    "print(dx, dy)"
   ]
  },
  {
   "cell_type": "markdown",
   "id": "5e3e716c-78d6-4c79-9eda-359ee30efd39",
   "metadata": {},
   "source": [
    "### Calculate the A,B,C,D,E,F parameters"
   ]
  },
  {
   "cell_type": "code",
   "execution_count": 51,
   "id": "3d02e68a-9ba8-4e83-ab2a-e78b6cf8faa6",
   "metadata": {},
   "outputs": [
    {
     "name": "stdout",
     "output_type": "stream",
     "text": [
      "[array([ 1.37036193e+01,  1.23444999e+01, -1.49262596e+00, -1.28278948e+05,\n",
      "       -3.04690311e+05,  9.53660292e+09])]\n"
     ]
    }
   ],
   "source": [
    "p_gal = []\n",
    "\n",
    "for n in range(len(idx1)):\n",
    "    p_gal.append(np.ravel(ab2AB(fudge*a1[n], fudge*b1[n], theta1[n], x0[0]+dx[n], y0[0]+dy[n]))) #pixel position with respect to the position of the object #1 \n",
    "    \n",
    "print(p_gal)"
   ]
  },
  {
   "cell_type": "markdown",
   "id": "b16c2216-8449-4aeb-873e-b16bd5d15a21",
   "metadata": {},
   "source": [
    "## Plot galaxy ellipses"
   ]
  },
  {
   "cell_type": "code",
   "execution_count": 52,
   "id": "27dbc3be-22d8-4339-ab46-fa653ce21e4e",
   "metadata": {},
   "outputs": [
    {
     "data": {
      "text/plain": [
       "<matplotlib.legend.Legend at 0x7f186412ceb0>"
      ]
     },
     "execution_count": 52,
     "metadata": {},
     "output_type": "execute_result"
    },
    {
     "data": {
      "image/png": "[encoded data removed]",
      "text/plain": [
       "<Figure size 504x504 with 1 Axes>"
      ]
     },
     "metadata": {
      "needs_background": "light"
     },
     "output_type": "display_data"
    }
   ],
   "source": [
    "fig = plt.figure(figsize=(7,7))\n",
    "ax = fig.add_subplot(111)\n",
    " \n",
    "rough_size = 4*np.sqrt(a1[0]*b1[0])\n",
    "\n",
    "for n in range(len(idx1)):\n",
    "    plot_shape(x0[0]+dx[n], y0[0]+dy[n], rough_size, p_gal[n], c='r', ls='-', ax=ax)\n",
    "\n",
    "ax.set_xlabel('x / pix', fontsize=14)\n",
    "ax.set_ylabel('y / pix', fontsize=14)\n",
    "\n",
    "ax.plot([], [], 'r', label='Galaxy(ies)')\n",
    "\n",
    "ax.legend(prop={'size':14})"
   ]
  },
  {
   "cell_type": "markdown",
   "id": "0c454f08-663d-432d-af9e-42f427a6bbf6",
   "metadata": {},
   "source": [
    "## Test of overlapp"
   ]
  },
  {
   "cell_type": "code",
   "execution_count": 53,
   "id": "2185d64e-b623-4f4c-9569-f82cb4bd1ef9",
   "metadata": {},
   "outputs": [],
   "source": [
    "def is_overlapping(p1, p2):\n",
    "    \n",
    "    A1, B1, C1, D1, E1, F1 = p1\n",
    "    A2, B2, C2, D2, E2, F2 = p2\n",
    "        \n",
    "    M1 = [[A1, C1, D1], [C1, B1, E1], [D1, E1, F1]]\n",
    "    M2 = [[A2, C2, D2], [C2, B2, E2], [D2, E2, F2]]\n",
    "    \n",
    "    l0 = np.linalg.det(M2)\n",
    "    l1 = (np.linalg.det([[A1,C2,D2],[C1,B2,E2],[D1,E2,F2]]) +\n",
    "            np.linalg.det([[A2,C1,D2],[C2,B1,E2],[D2,E1,F2]]) +\n",
    "            np.linalg.det([[A2,C2,D1],[C2,B2,E1],[D2,E2,F1]])) / 3\n",
    "    l2 = (np.linalg.det([[A2,C1,D1],[C2,B1,E1],[D2,E1,F1]]) +\n",
    "            np.linalg.det([[A1,C2,D1],[C1,B2,E1],[D1,E2,F1]]) +\n",
    "            np.linalg.det([[A1,C1,D2],[C1,B1,E2],[D1,E1,F2]])) / 3\n",
    "    l3 = np.linalg.det(M1)\n",
    "\n",
    "    delta1 = np.linalg.det([[l3, l2],[l2, l1]])\n",
    "    delta2 = np.linalg.det([[l3, l1],[l2, l0]])\n",
    "    delta3 = np.linalg.det([[l2, l1],[l1, l0]])\n",
    "    discriminant_P = np.linalg.det([[2*delta1, delta2], [delta2, 2*delta3]])\n",
    "    \n",
    "    if (discriminant_P >=0) and ((l1>0) or (l2>0)):\n",
    "        return False  ## not over-lapping\n",
    "    else:\n",
    "        return True"
   ]
  },
  {
   "cell_type": "code",
   "execution_count": 54,
   "id": "3b07cd98-e99f-4f61-8efd-ffb0e6794c16",
   "metadata": {},
   "outputs": [
    {
     "name": "stdout",
     "output_type": "stream",
     "text": [
      "galaxy 1 overlaps object 1 ? True\n"
     ]
    }
   ],
   "source": [
    "for n in range(len(p_gal)):\n",
    "    for m in range(len(p_obj)):\n",
    "        print(f'galaxy {n+1} overlaps object {m+1} ?', is_overlapping(p_gal[n], p_obj[m]))"
   ]
  },
  {
   "cell_type": "markdown",
   "id": "2307d2f1-c4ed-4ad1-98a6-7cc73c7860e9",
   "metadata": {},
   "source": [
    "## Plot ellipses"
   ]
  },
  {
   "cell_type": "code",
   "execution_count": 55,
   "id": "fe8c058e-0c54-4d2e-90ce-65fc6e0ad09c",
   "metadata": {},
   "outputs": [
    {
     "data": {
      "image/png": "[encoded data removed]",
      "text/plain": [
       "<Figure size 504x504 with 1 Axes>"
      ]
     },
     "metadata": {
      "needs_background": "light"
     },
     "output_type": "display_data"
    }
   ],
   "source": [
    "fig = plt.figure(figsize=(7,7))\n",
    "ax = fig.add_subplot(111)\n",
    " \n",
    "rough_size = 4*np.sqrt(a2[0]*b2[0])\n",
    "\n",
    "for n in range(len(idx1)):\n",
    "    plot_shape(x0[0]+dx[n], y0[0]+dy[n], rough_size, p_gal[n], c='r', ls='-', ax=ax)\n",
    "    plt.text(x0[0]+dx[n], y0[0]+dy[n], str(round(float(truth_data['mag_i'][idx1[n]]),2)), c='r', fontsize=12)\n",
    " \n",
    "for m in range(len(idx2)):\n",
    "    plot_shape(x0[m], y0[m], rough_size, p_obj[m], c='b', ls='-', ax=ax)\n",
    "    plt.text(x0[m], y0[m], str(round(float(object_data['mag_i_cModel'][idx2[m]]),2)), c='b', fontsize=12)\n",
    "\n",
    "ax.set_xlabel('x / pix', fontsize=14)\n",
    "ax.set_ylabel('y / pix', fontsize=14)\n",
    "\n",
    "ax.plot([], [], 'r', label='Galaxy(ies)')\n",
    "ax.plot([], [], 'b', label='Object(s)')\n",
    "\n",
    "ax.legend(prop={'size':16})"
   ]
  },
  {
   "cell_type": "code",
   "execution_count": null,
   "id": "b86154f1-fdca-4734-8880-831f83bf1069",
   "metadata": {},
   "outputs": [],
   "source": []
  },
  {
   "cell_type": "code",
   "execution_count": null,
   "id": "cc707894-750a-41d6-a180-8ab1fbb38a65",
   "metadata": {},
   "outputs": [],
   "source": []
  },
  {
   "cell_type": "code",
   "execution_count": null,
   "id": "fc4dee21-fd14-4d13-b5f0-9d632f06b64d",
   "metadata": {},
   "outputs": [],
   "source": []
  },
  {
   "cell_type": "code",
   "execution_count": null,
   "id": "07d66fa7-5889-4477-a006-fda34f7c0881",
   "metadata": {},
   "outputs": [],
   "source": []
  },
  {
   "cell_type": "code",
   "execution_count": null,
   "id": "ad8db8b9-868d-4d6e-a662-b72661681f40",
   "metadata": {},
   "outputs": [],
   "source": []
  },
  {
   "cell_type": "code",
   "execution_count": null,
   "id": "e0515bf3-4e4f-4d48-a4b2-dedfa305865d",
   "metadata": {},
   "outputs": [],
   "source": []
  },
  {
   "cell_type": "code",
   "execution_count": null,
   "id": "69b6b680-a002-46c8-a107-809e66b812bc",
   "metadata": {},
   "outputs": [],
   "source": []
  }
 ],
 "metadata": {
  "kernelspec": {
   "display_name": "mydesc",
   "language": "python",
   "name": "mydesc"
  },
  "language_info": {
   "codemirror_mode": {
    "name": "ipython",
    "version": 3
   },
   "file_extension": ".py",
   "mimetype": "text/x-python",
   "name": "python",
   "nbconvert_exporter": "python",
   "pygments_lexer": "ipython3",
   "version": "3.8.12"
  }
 },
 "nbformat": 4,
 "nbformat_minor": 5
}
