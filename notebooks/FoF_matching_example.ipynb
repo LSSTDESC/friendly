{
 "cells": [
  {
   "cell_type": "code",
   "execution_count": 1,
   "id": "6abb69e1-f1aa-47ba-a265-84d3d0afd953",
   "metadata": {},
   "outputs": [],
   "source": [
    "import numpy as np\n",
    "import matplotlib.pyplot as plt\n",
    "import matplotlib as mpl\n",
    "from astropy.table import Table\n",
    "import GCRCatalogs\n",
    "from GCR import GCRQuery\n",
    "import statistics\n",
    "import os, sys\n",
    "import healpy as hp\n",
    "from tqdm.auto import tqdm, trange\n",
    "import scipy.stats\n",
    "import FoFCatalogMatching\n",
    "import pandas as pd\n",
    "from astropy.coordinates import SkyCoord\n",
    "from scipy.stats import pearsonr\n",
    "import warnings"
   ]
  },
  {
   "cell_type": "code",
   "execution_count": 2,
   "id": "587d23ba-eb2c-4bc0-b9e9-7ef367b98cf6",
   "metadata": {},
   "outputs": [],
   "source": [
    "warnings.filterwarnings('ignore')"
   ]
  },
  {
   "cell_type": "markdown",
   "id": "81220225-3ee2-413c-a660-601386be979f",
   "metadata": {},
   "source": [
    "# cosmoDC2, DC2objects and Filters"
   ]
  },
  {
   "cell_type": "code",
   "execution_count": 3,
   "id": "4fa2f745-3dea-4826-b91a-e4413babff98",
   "metadata": {},
   "outputs": [],
   "source": [
    "mag_filters = [\n",
    "    'mag_i_cModel < 26.5', 'mag_i_cModel > 18',\n",
    "    (np.isfinite, 'mag_i_cModel')\n",
    "]\n",
    "truth_mag_filters = (['mag_i<28','mag_i>18',(np.isfinite, 'mag_i')]) #larger cut to ensure matching between faintest objects/galaxies"
   ]
  },
  {
   "cell_type": "code",
   "execution_count": 4,
   "id": "d7fa68ba-d48d-48e8-9c0a-85c1ff11497f",
   "metadata": {},
   "outputs": [],
   "source": [
    "cosmodc2 = GCRCatalogs.load_catalog('cosmoDC2_v1.1.4_image') #truth catalog\n",
    "dc2 = GCRCatalogs.load_catalog('dc2_object_run2.2i_dr6_with_addons') #object catalog"
   ]
  },
  {
   "cell_type": "code",
   "execution_count": 5,
   "id": "63ba7107-c9d9-470c-ae52-8c099f3d1c80",
   "metadata": {},
   "outputs": [],
   "source": [
    "object_data = (dc2.get_quantities(['ra', 'dec', 'mag_i_cModel', 'photoz_mean', 'blendedness'],\n",
    "                                 filters=['extendedness>0', 'clean']+mag_filters,\n",
    "                                 native_filters=['tract==4026']))"
   ]
  },
  {
   "cell_type": "code",
   "execution_count": 6,
   "id": "46b3388f-1c54-434c-aa07-f329b94014e4",
   "metadata": {},
   "outputs": [],
   "source": [
    "eps = 10/3600 # 10 arcsec\n",
    "max_ra = np.nanmax(object_data['ra']) + eps\n",
    "min_ra = np.nanmin(object_data['ra']) - eps\n",
    "max_dec = np.nanmax(object_data['dec']) + eps\n",
    "min_dec = np.nanmin(object_data['dec']) - eps\n",
    "pos_filters = [f'ra >= {min_ra}',f'ra <= {max_ra}', f'dec >= {min_dec}', f'dec <= {max_dec}']\n",
    "\n",
    "vertices = hp.ang2vec(np.array([min_ra, max_ra, max_ra, min_ra]),\n",
    "                      np.array([min_dec, min_dec, max_dec, max_dec]), lonlat=True)\n",
    "ipix = hp.query_polygon(32, vertices, inclusive=True)\n",
    "healpix_filter = GCRQuery((lambda h: np.isin(h, ipix, True), \"healpix_pixel\"))"
   ]
  },
  {
   "cell_type": "code",
   "execution_count": 7,
   "id": "d94d5df3-7f46-4275-a790-ba8c2e7974d5",
   "metadata": {},
   "outputs": [],
   "source": [
    "quantities = ['galaxy_id', 'ra', 'dec', 'mag_i', 'redshift']\n",
    "truth_data = (cosmodc2.get_quantities(quantities, filters=truth_mag_filters+pos_filters, \n",
    "                                      native_filters=healpix_filter))"
   ]
  },
  {
   "cell_type": "code",
   "execution_count": 8,
   "id": "c541fb4a-0cc4-4e50-94d2-a4f41642670b",
   "metadata": {},
   "outputs": [
    {
     "name": "stdout",
     "output_type": "stream",
     "text": [
      "number of galaxies = 2920943\n",
      "number of objects = 708875\n"
     ]
    }
   ],
   "source": [
    "print(\"number of galaxies =\", len(truth_data['ra']))\n",
    "print(\"number of objects =\", len(object_data['ra']))"
   ]
  },
  {
   "cell_type": "markdown",
   "id": "9482d152-2b3e-4bca-8ee0-f8fd02d1a94e",
   "metadata": {},
   "source": [
    "# FoF algorithm"
   ]
  },
  {
   "cell_type": "code",
   "execution_count": 9,
   "id": "aac85939-cb65-44f0-9f19-63941ee1a9f0",
   "metadata": {},
   "outputs": [],
   "source": [
    "my_linking_length = 1.2 #linking_lenghts in arcseconds"
   ]
  },
  {
   "cell_type": "code",
   "execution_count": 10,
   "id": "f67b2051-bccb-4190-84f6-bd29222c00de",
   "metadata": {},
   "outputs": [],
   "source": [
    "results = (FoFCatalogMatching.match(catalog_dict={'object':pd.DataFrame(object_data), \n",
    "                                                 'galaxy':pd.DataFrame(truth_data)}, linking_lengths=my_linking_length)).to_pandas()"
   ]
  },
  {
   "cell_type": "code",
   "execution_count": 11,
   "id": "8907df62-6ff1-4f2a-8221-d1787aac48eb",
   "metadata": {},
   "outputs": [
    {
     "name": "stdout",
     "output_type": "stream",
     "text": [
      "         row_index catalog_key  group_id\n",
      "0                0      object         0\n",
      "1          2052843      galaxy         0\n",
      "2                1      object         1\n",
      "3           488380      galaxy         1\n",
      "4                2      object         2\n",
      "...            ...         ...       ...\n",
      "3629813    2920938      galaxy   2271922\n",
      "3629814    2920939      galaxy   2271923\n",
      "3629815    2920940      galaxy   2271924\n",
      "3629816    2920941      galaxy   2271925\n",
      "3629817    2920942      galaxy   2271926\n",
      "\n",
      "[3629818 rows x 3 columns]\n"
     ]
    }
   ],
   "source": [
    "print(results)"
   ]
  },
  {
   "cell_type": "code",
   "execution_count": 12,
   "id": "5971706b-acaf-4524-8bfc-642baf048988",
   "metadata": {},
   "outputs": [
    {
     "name": "stdout",
     "output_type": "stream",
     "text": [
      "Linking length 1.2'' \n",
      "Number of groups 2271927 \n",
      "Number of groups with at least 1 galaxy 2264766 (99.68 %)\n",
      "Number of groups with at least 1 object 694014 (30.55 %)\n",
      "Average number of galaxies per group : 1.29 \n",
      "Average number of objects per group : 0.31\n"
     ]
    },
    {
     "data": {
      "image/png": "[encoded data removed]",
      "text/plain": [
       "<Figure size 432x288 with 2 Axes>"
      ]
     },
     "metadata": {
      "needs_background": "light"
     },
     "output_type": "display_data"
    }
   ],
   "source": [
    "# first we need to know which rows are from the truth catalog and which are from the object\n",
    "truth_mask = results['catalog_key'] == 'galaxy'\n",
    "object_mask = ~truth_mask\n",
    "\n",
    "# then np.bincount will give up the number of id occurrences (like historgram but with integer input)\n",
    "n_groups = results['group_id'].max() + 1\n",
    "n_truth = np.bincount(results['group_id'][truth_mask], minlength=n_groups)\n",
    "n_object = np.bincount(results['group_id'][object_mask], minlength=n_groups)\n",
    "\n",
    "#average number of galaxies by groups\n",
    "ngal_group = len(truth_data['ra'])/n_groups\n",
    "nobj_group = len(object_data['ra'])/n_groups\n",
    "\n",
    "print(f'Linking length {my_linking_length}\\'\\' \\nNumber of groups {n_groups} ')\n",
    "print(f'Number of groups with at least 1 galaxy {len(n_truth[n_truth>0])} ({100*len(n_truth[n_truth>0])/n_groups:.2f} %)')\n",
    "print(f'Number of groups with at least 1 object {len(n_object[n_object>0])} ({100*len(n_object[n_object>0])/n_groups:.2f} %)')\n",
    "print(f'Average number of galaxies per group : {ngal_group:.2f} \\nAverage number of objects per group : {nobj_group:.2f}')\n",
    "\n",
    "plt.hist2d(n_truth, n_object, bins=np.arange(max(np.max(n_object), np.max(n_truth))+2)-0.5, norm=mpl.colors.LogNorm());\n",
    "plt.xlabel('Number of truth galaxies', fontsize=12);\n",
    "plt.ylabel('Number of detected objects', fontsize=12);\n",
    "plt.colorbar(label=r'$N_{\\rm groups}$');\n",
    "plt.gca().set_aspect('equal');"
   ]
  },
  {
   "cell_type": "markdown",
   "id": "f5d39dd1-04a8-41ea-9bc5-ee9bc06d0ec5",
   "metadata": {},
   "source": [
    "# Extract the blended groups"
   ]
  },
  {
   "cell_type": "code",
   "execution_count": 13,
   "id": "1481107a-c992-43c0-a4e0-1e9415b1524a",
   "metadata": {},
   "outputs": [],
   "source": [
    "results['is_object'] = (results['catalog_key']=='object')"
   ]
  },
  {
   "cell_type": "code",
   "execution_count": 14,
   "id": "62d1064e-eaa4-4027-98d3-9065a359ef21",
   "metadata": {},
   "outputs": [],
   "source": [
    "res = results.drop('catalog_key', axis=1)"
   ]
  },
  {
   "cell_type": "code",
   "execution_count": 15,
   "id": "4486d83b-f819-4ddc-94ba-443e0e052128",
   "metadata": {
    "tags": []
   },
   "outputs": [],
   "source": [
    "groups = []\n",
    "\n",
    "for group_id, rows in res.groupby('group_id'):\n",
    "    id_gal = list(rows['row_index'][~rows['is_object']])\n",
    "    id_obj = list(rows['row_index'][rows['is_object']])\n",
    "    groups.append([id_gal, id_obj])"
   ]
  },
  {
   "cell_type": "markdown",
   "id": "b07b1e70-0476-4d0c-841f-0eb492cdb255",
   "metadata": {},
   "source": [
    "# Recover the blended systems"
   ]
  },
  {
   "cell_type": "code",
   "execution_count": 34,
   "id": "d343ae81-aa58-40ad-ad96-3f0c95f66940",
   "metadata": {},
   "outputs": [],
   "source": [
    "def recover_systems(groups, n=1, m=1): # n=number of galaxies, m=number of objects\n",
    "    sys = []\n",
    "    for i in range(len(groups)):\n",
    "        if (len(groups[i][0]), len(groups[i][1])) == (n,m):\n",
    "            sys.append(groups[i])"
   ]
  },
  {
   "cell_type": "code",
   "execution_count": 35,
   "id": "8a974d26-0924-4aa5-af59-4118eed97dba",
   "metadata": {},
   "outputs": [],
   "source": [
    "sys_2_1 = recover_systems(groups, 2, 1)"
   ]
  },
  {
   "cell_type": "code",
   "execution_count": null,
   "id": "5415f19d-5eef-47da-8b00-9cc3fd04f42f",
   "metadata": {},
   "outputs": [],
   "source": []
  }
 ],
 "metadata": {
  "kernelspec": {
   "display_name": "mydesc",
   "language": "python",
   "name": "mydesc"
  },
  "language_info": {
   "codemirror_mode": {
    "name": "ipython",
    "version": 3
   },
   "file_extension": ".py",
   "mimetype": "text/x-python",
   "name": "python",
   "nbconvert_exporter": "python",
   "pygments_lexer": "ipython3",
   "version": "3.8.12"
  }
 },
 "nbformat": 4,
 "nbformat_minor": 5
}
